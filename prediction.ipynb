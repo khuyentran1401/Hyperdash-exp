{
 "cells": [
  {
   "cell_type": "code",
   "execution_count": 1,
   "metadata": {
    "ExecuteTime": {
     "end_time": "2020-03-20T10:57:44.403514Z",
     "start_time": "2020-03-20T10:57:43.360039Z"
    },
    "_cell_guid": "b1076dfc-b9ad-4769-8c92-a6c4dae69d19",
    "_uuid": "8f2839f25d086af736a60e9eeb907d3b93b6e0e5",
    "scrolled": true
   },
   "outputs": [],
   "source": [
    "import numpy as np \n",
    "import pandas as pd \n"
   ]
  },
  {
   "cell_type": "code",
   "execution_count": 2,
   "metadata": {
    "ExecuteTime": {
     "end_time": "2020-03-20T10:57:44.535049Z",
     "start_time": "2020-03-20T10:57:44.407037Z"
    },
    "_cell_guid": "79c7e3d0-c299-4dcb-8224-4455121ee9b0",
    "_uuid": "d629ff2d2480ee46fbb7e2d37f6b5fab8052498a"
   },
   "outputs": [
    {
     "data": {
      "text/html": [
       "<div>\n",
       "<style scoped>\n",
       "    .dataframe tbody tr th:only-of-type {\n",
       "        vertical-align: middle;\n",
       "    }\n",
       "\n",
       "    .dataframe tbody tr th {\n",
       "        vertical-align: top;\n",
       "    }\n",
       "\n",
       "    .dataframe thead th {\n",
       "        text-align: right;\n",
       "    }\n",
       "</style>\n",
       "<table border=\"1\" class=\"dataframe\">\n",
       "  <thead>\n",
       "    <tr style=\"text-align: right;\">\n",
       "      <th></th>\n",
       "      <th>age</th>\n",
       "      <th>sex</th>\n",
       "      <th>cp</th>\n",
       "      <th>trestbps</th>\n",
       "      <th>chol</th>\n",
       "      <th>fbs</th>\n",
       "      <th>restecg</th>\n",
       "      <th>thalach</th>\n",
       "      <th>exang</th>\n",
       "      <th>oldpeak</th>\n",
       "      <th>slope</th>\n",
       "      <th>ca</th>\n",
       "      <th>thal</th>\n",
       "      <th>target</th>\n",
       "    </tr>\n",
       "  </thead>\n",
       "  <tbody>\n",
       "    <tr>\n",
       "      <th>count</th>\n",
       "      <td>303.000000</td>\n",
       "      <td>303.000000</td>\n",
       "      <td>303.000000</td>\n",
       "      <td>303.000000</td>\n",
       "      <td>303.000000</td>\n",
       "      <td>303.000000</td>\n",
       "      <td>303.000000</td>\n",
       "      <td>303.000000</td>\n",
       "      <td>303.000000</td>\n",
       "      <td>303.000000</td>\n",
       "      <td>303.000000</td>\n",
       "      <td>303.000000</td>\n",
       "      <td>303.000000</td>\n",
       "      <td>303.000000</td>\n",
       "    </tr>\n",
       "    <tr>\n",
       "      <th>mean</th>\n",
       "      <td>54.366337</td>\n",
       "      <td>0.683168</td>\n",
       "      <td>0.966997</td>\n",
       "      <td>131.623762</td>\n",
       "      <td>246.264026</td>\n",
       "      <td>0.148515</td>\n",
       "      <td>0.528053</td>\n",
       "      <td>149.646865</td>\n",
       "      <td>0.326733</td>\n",
       "      <td>1.039604</td>\n",
       "      <td>1.399340</td>\n",
       "      <td>0.729373</td>\n",
       "      <td>2.313531</td>\n",
       "      <td>0.544554</td>\n",
       "    </tr>\n",
       "    <tr>\n",
       "      <th>std</th>\n",
       "      <td>9.082101</td>\n",
       "      <td>0.466011</td>\n",
       "      <td>1.032052</td>\n",
       "      <td>17.538143</td>\n",
       "      <td>51.830751</td>\n",
       "      <td>0.356198</td>\n",
       "      <td>0.525860</td>\n",
       "      <td>22.905161</td>\n",
       "      <td>0.469794</td>\n",
       "      <td>1.161075</td>\n",
       "      <td>0.616226</td>\n",
       "      <td>1.022606</td>\n",
       "      <td>0.612277</td>\n",
       "      <td>0.498835</td>\n",
       "    </tr>\n",
       "    <tr>\n",
       "      <th>min</th>\n",
       "      <td>29.000000</td>\n",
       "      <td>0.000000</td>\n",
       "      <td>0.000000</td>\n",
       "      <td>94.000000</td>\n",
       "      <td>126.000000</td>\n",
       "      <td>0.000000</td>\n",
       "      <td>0.000000</td>\n",
       "      <td>71.000000</td>\n",
       "      <td>0.000000</td>\n",
       "      <td>0.000000</td>\n",
       "      <td>0.000000</td>\n",
       "      <td>0.000000</td>\n",
       "      <td>0.000000</td>\n",
       "      <td>0.000000</td>\n",
       "    </tr>\n",
       "    <tr>\n",
       "      <th>25%</th>\n",
       "      <td>47.500000</td>\n",
       "      <td>0.000000</td>\n",
       "      <td>0.000000</td>\n",
       "      <td>120.000000</td>\n",
       "      <td>211.000000</td>\n",
       "      <td>0.000000</td>\n",
       "      <td>0.000000</td>\n",
       "      <td>133.500000</td>\n",
       "      <td>0.000000</td>\n",
       "      <td>0.000000</td>\n",
       "      <td>1.000000</td>\n",
       "      <td>0.000000</td>\n",
       "      <td>2.000000</td>\n",
       "      <td>0.000000</td>\n",
       "    </tr>\n",
       "    <tr>\n",
       "      <th>50%</th>\n",
       "      <td>55.000000</td>\n",
       "      <td>1.000000</td>\n",
       "      <td>1.000000</td>\n",
       "      <td>130.000000</td>\n",
       "      <td>240.000000</td>\n",
       "      <td>0.000000</td>\n",
       "      <td>1.000000</td>\n",
       "      <td>153.000000</td>\n",
       "      <td>0.000000</td>\n",
       "      <td>0.800000</td>\n",
       "      <td>1.000000</td>\n",
       "      <td>0.000000</td>\n",
       "      <td>2.000000</td>\n",
       "      <td>1.000000</td>\n",
       "    </tr>\n",
       "    <tr>\n",
       "      <th>75%</th>\n",
       "      <td>61.000000</td>\n",
       "      <td>1.000000</td>\n",
       "      <td>2.000000</td>\n",
       "      <td>140.000000</td>\n",
       "      <td>274.500000</td>\n",
       "      <td>0.000000</td>\n",
       "      <td>1.000000</td>\n",
       "      <td>166.000000</td>\n",
       "      <td>1.000000</td>\n",
       "      <td>1.600000</td>\n",
       "      <td>2.000000</td>\n",
       "      <td>1.000000</td>\n",
       "      <td>3.000000</td>\n",
       "      <td>1.000000</td>\n",
       "    </tr>\n",
       "    <tr>\n",
       "      <th>max</th>\n",
       "      <td>77.000000</td>\n",
       "      <td>1.000000</td>\n",
       "      <td>3.000000</td>\n",
       "      <td>200.000000</td>\n",
       "      <td>564.000000</td>\n",
       "      <td>1.000000</td>\n",
       "      <td>2.000000</td>\n",
       "      <td>202.000000</td>\n",
       "      <td>1.000000</td>\n",
       "      <td>6.200000</td>\n",
       "      <td>2.000000</td>\n",
       "      <td>4.000000</td>\n",
       "      <td>3.000000</td>\n",
       "      <td>1.000000</td>\n",
       "    </tr>\n",
       "  </tbody>\n",
       "</table>\n",
       "</div>"
      ],
      "text/plain": [
       "              age         sex          cp    trestbps        chol         fbs  \\\n",
       "count  303.000000  303.000000  303.000000  303.000000  303.000000  303.000000   \n",
       "mean    54.366337    0.683168    0.966997  131.623762  246.264026    0.148515   \n",
       "std      9.082101    0.466011    1.032052   17.538143   51.830751    0.356198   \n",
       "min     29.000000    0.000000    0.000000   94.000000  126.000000    0.000000   \n",
       "25%     47.500000    0.000000    0.000000  120.000000  211.000000    0.000000   \n",
       "50%     55.000000    1.000000    1.000000  130.000000  240.000000    0.000000   \n",
       "75%     61.000000    1.000000    2.000000  140.000000  274.500000    0.000000   \n",
       "max     77.000000    1.000000    3.000000  200.000000  564.000000    1.000000   \n",
       "\n",
       "          restecg     thalach       exang     oldpeak       slope          ca  \\\n",
       "count  303.000000  303.000000  303.000000  303.000000  303.000000  303.000000   \n",
       "mean     0.528053  149.646865    0.326733    1.039604    1.399340    0.729373   \n",
       "std      0.525860   22.905161    0.469794    1.161075    0.616226    1.022606   \n",
       "min      0.000000   71.000000    0.000000    0.000000    0.000000    0.000000   \n",
       "25%      0.000000  133.500000    0.000000    0.000000    1.000000    0.000000   \n",
       "50%      1.000000  153.000000    0.000000    0.800000    1.000000    0.000000   \n",
       "75%      1.000000  166.000000    1.000000    1.600000    2.000000    1.000000   \n",
       "max      2.000000  202.000000    1.000000    6.200000    2.000000    4.000000   \n",
       "\n",
       "             thal      target  \n",
       "count  303.000000  303.000000  \n",
       "mean     2.313531    0.544554  \n",
       "std      0.612277    0.498835  \n",
       "min      0.000000    0.000000  \n",
       "25%      2.000000    0.000000  \n",
       "50%      2.000000    1.000000  \n",
       "75%      3.000000    1.000000  \n",
       "max      3.000000    1.000000  "
      ]
     },
     "execution_count": 2,
     "metadata": {},
     "output_type": "execute_result"
    }
   ],
   "source": [
    "disease = pd.read_csv('heart.csv')\n",
    "disease.describe()"
   ]
  },
  {
   "cell_type": "code",
   "execution_count": 3,
   "metadata": {
    "ExecuteTime": {
     "end_time": "2020-03-20T10:57:45.707364Z",
     "start_time": "2020-03-20T10:57:44.543137Z"
    }
   },
   "outputs": [],
   "source": [
    "#Split the data into train and test set\n",
    "from sklearn.model_selection import train_test_split\n",
    "\n",
    "train, test = train_test_split(disease, test_size = 0.2, random_state = 1)"
   ]
  },
  {
   "cell_type": "code",
   "execution_count": 4,
   "metadata": {
    "ExecuteTime": {
     "end_time": "2020-03-20T10:57:45.762882Z",
     "start_time": "2020-03-20T10:57:45.717729Z"
    }
   },
   "outputs": [],
   "source": [
    "X_train = train.drop(['target','fbs'],axis=1)\n",
    "y_train = train['target']\n",
    "\n",
    "X_test = train.drop(['target','fbs'],axis=1)\n",
    "y_test = train['target']"
   ]
  },
  {
   "cell_type": "code",
   "execution_count": 5,
   "metadata": {
    "ExecuteTime": {
     "end_time": "2020-03-20T10:57:46.130719Z",
     "start_time": "2020-03-20T10:57:45.807061Z"
    }
   },
   "outputs": [],
   "source": [
    "from hyperdash import Experiment"
   ]
  },
  {
   "cell_type": "code",
   "execution_count": 10,
   "metadata": {
    "ExecuteTime": {
     "end_time": "2020-03-20T10:59:04.386223Z",
     "start_time": "2020-03-20T10:59:04.343762Z"
    }
   },
   "outputs": [
    {
     "name": "stdout",
     "output_type": "stream",
     "text": [
      "{ alpha: 0.01 }\n"
     ]
    },
    {
     "data": {
      "text/plain": [
       "SGDClassifier(alpha=0.01, average=False, class_weight=None,\n",
       "              early_stopping=False, epsilon=0.1, eta0=0.0, fit_intercept=True,\n",
       "              l1_ratio=0.15, learning_rate='optimal', loss='hinge',\n",
       "              max_iter=1000, n_iter_no_change=5, n_jobs=None, penalty='l2',\n",
       "              power_t=0.5, random_state=1, shuffle=True, tol=0.001,\n",
       "              validation_fraction=0.1, verbose=0, warm_start=False)"
      ]
     },
     "execution_count": 10,
     "metadata": {},
     "output_type": "execute_result"
    },
    {
     "name": "stdout",
     "output_type": "stream",
     "text": [
      "[{\"varName\": \"SGDClassifier\", \"varType\": \"ABCMeta\", \"varSize\": \"2008\", \"varShape\": \"\", \"varContent\": \"<class 'sklearn.linear_model._stochastic_gradient.SGDClassifier'>\"}, {\"varName\": \"X_test\", \"varType\": \"DataFrame\", \"varSize\": \"25168\", \"varShape\": \"(242, 12)\", \"varContent\": \"Column names: age, sex, cp, trestbps, chol, restecg, thalach, exang, oldpeak, slope, ca, thal\"}, {\"varName\": \"X_train\", \"varType\": \"DataFrame\", \"varSize\": \"25168\", \"varShape\": \"(242, 12)\", \"varContent\": \"Column names: age, sex, cp, trestbps, chol, restecg, thalach, exang, oldpeak, slope, ca, thal\"}, {\"varName\": \"alpha\", \"varType\": \"float\", \"varSize\": \"24\", \"varShape\": \"\", \"varContent\": \"0.01\"}, {\"varName\": \"disease\", \"varType\": \"DataFrame\", \"varSize\": \"34064\", \"varShape\": \"(303, 14)\", \"varContent\": \"Column names: age, sex, cp, trestbps, chol, fbs, restecg, thalach, exang, oldpeak, slope, ca, thal, target\"}, {\"varName\": \"exp\", \"varType\": \"Experiment\", \"varSize\": \"64\", \"varShape\": \"\", \"varContent\": \"<hyperdash.experiment.Experiment object at 0x11d3f6a10>\"}, {\"varName\": \"fn\", \"varType\": \"int64\", \"varSize\": \"32\", \"varShape\": \"\", \"varContent\": \"4\"}, {\"varName\": \"fp\", \"varType\": \"int64\", \"varSize\": \"32\", \"varShape\": \"\", \"varContent\": \"89\"}, {\"varName\": \"score\", \"varType\": \"float64\", \"varSize\": \"32\", \"varShape\": \"\", \"varContent\": \"0.6157312925170068\"}, {\"varName\": \"sgd_model\", \"varType\": \"SGDClassifier\", \"varSize\": \"64\", \"varShape\": \"\", \"varContent\": \"SGDClassifier(alpha=0.01, average=False, class_weight=None,\\n              early_stopping=False, epsilon=0.1, eta0=0.0, fit_intercept=True,\\n            ...\"}, {\"varName\": \"sgd_predictions\", \"varType\": \"ndarray\", \"varSize\": \"1936\", \"varShape\": \"(242,)\", \"varContent\": \"array([1, 1, 1, 1, 1, 1, 1, 1, 1, 1, 1, 0, 1, 1, 0, 1, 1, 1, 1, 1, 1, 0,\\n       1, 1, 1, 1, 1, 1, 1, 0, 1, 1, 1, 1, 0, 1, 1, 1, 1, 1, 0, 1, 1, 1,\\n       1, 1, 0, 1, 1, 1, 1, 1, 1, 1, 1, 1, 1, 0, 1, 1, 1, 1, 1, 1, 1, 1,\\n       1, 1, 1, 1, 1, 1, 1, 1, 1, 1, 0, 1, 1, 1, 1, 1, 1, 1, 1, 1, 1, 1,\\n       1, 1, 1, 1, 1, 0, 1, 1, 1, 1, 1, 1, 1, 1, 1, 0, 1, 0, 0, 1, 1, 0,\\n       0, 1, 1, 1, 1, 0, 1, 1, 0, 1, 1, 1, 1, 0, 1, 1, 1, 1, 1, 1, 0, 1,\\n       1, 1, 1, 0, 1, 1, 0, 1, 1, 1, 1, 1, 1, 1, 1, 1, 1, 1, 1, 1, 1, 1,\\n       0, 1, 1, 1, 1, 1, 1, 1, 1, 1, 1, 1, 1, 1, 1, 1, 1, 1, 1, 1, 1, 1,\\n       1, 1, 1, 1, 1, 1, 0, 1, 1, 1, 1, 1, 1, 1, 1, 1, 1, 1, 1, 1, 1, 1,\\n       1, 1, 1, 1, 1, 1, 1, 1, 1, 1, 1, 1, 1, 1, 1, 1, 1, 1, 1, 1, 1, 1,\\n       1, 1, 1, 1, 1, 1, 1, 1, 1, 1, 1, 1, 1, 1, 1, 1, 1, 1, 1, 1, 1, 1])\"}, {\"varName\": \"test\", \"varType\": \"DataFrame\", \"varSize\": \"7320\", \"varShape\": \"(61, 14)\", \"varContent\": \"Column names: age, sex, cp, trestbps, chol, fbs, restecg, thalach, exang, oldpeak, slope, ca, thal, target\"}, {\"varName\": \"tn\", \"varType\": \"int64\", \"varSize\": \"32\", \"varShape\": \"\", \"varContent\": \"19\"}, {\"varName\": \"tp\", \"varType\": \"int64\", \"varSize\": \"32\", \"varShape\": \"\", \"varContent\": \"130\"}, {\"varName\": \"train\", \"varType\": \"DataFrame\", \"varSize\": \"29040\", \"varShape\": \"(242, 14)\", \"varContent\": \"Column names: age, sex, cp, trestbps, chol, fbs, restecg, thalach, exang, oldpeak, slope, ca, thal, target\"}, {\"varName\": \"y_test\", \"varType\": \"Series\", \"varSize\": \"1936\", \"varShape\": \"(242,)\", \"varContent\": \"Series [242 rows]\"}, {\"varName\": \"y_train\", \"varType\": \"Series\", \"varSize\": \"1936\", \"varShape\": \"(242,)\", \"varContent\": \"Series [242 rows]\"}]\n",
      "[{\"varName\": \"SGDClassifier\", \"varType\": \"ABCMeta\", \"varSize\": \"2008\", \"varShape\": \"\", \"varContent\": \"<class 'sklearn.linear_model._stochastic_gradient.SGDClassifier'>\"}, {\"varName\": \"X_test\", \"varType\": \"DataFrame\", \"varSize\": \"25168\", \"varShape\": \"(242, 12)\", \"varContent\": \"Column names: age, sex, cp, trestbps, chol, restecg, thalach, exang, oldpeak, slope, ca, thal\"}, {\"varName\": \"X_train\", \"varType\": \"DataFrame\", \"varSize\": \"25168\", \"varShape\": \"(242, 12)\", \"varContent\": \"Column names: age, sex, cp, trestbps, chol, restecg, thalach, exang, oldpeak, slope, ca, thal\"}, {\"varName\": \"alpha\", \"varType\": \"float\", \"varSize\": \"24\", \"varShape\": \"\", \"varContent\": \"0.01\"}, {\"varName\": \"disease\", \"varType\": \"DataFrame\", \"varSize\": \"34064\", \"varShape\": \"(303, 14)\", \"varContent\": \"Column names: age, sex, cp, trestbps, chol, fbs, restecg, thalach, exang, oldpeak, slope, ca, thal, target\"}, {\"varName\": \"exp\", \"varType\": \"Experiment\", \"varSize\": \"64\", \"varShape\": \"\", \"varContent\": \"<hyperdash.experiment.Experiment object at 0x11d3f6a10>\"}, {\"varName\": \"fn\", \"varType\": \"int64\", \"varSize\": \"32\", \"varShape\": \"\", \"varContent\": \"4\"}, {\"varName\": \"fp\", \"varType\": \"int64\", \"varSize\": \"32\", \"varShape\": \"\", \"varContent\": \"89\"}, {\"varName\": \"score\", \"varType\": \"float64\", \"varSize\": \"32\", \"varShape\": \"\", \"varContent\": \"0.6157312925170068\"}, {\"varName\": \"sgd_model\", \"varType\": \"SGDClassifier\", \"varSize\": \"64\", \"varShape\": \"\", \"varContent\": \"SGDClassifier(alpha=0.01, average=False, class_weight=None,\\n              early_stopping=False, epsilon=0.1, eta0=0.0, fit_intercept=True,\\n            ...\"}, {\"varName\": \"sgd_predictions\", \"varType\": \"ndarray\", \"varSize\": \"1936\", \"varShape\": \"(242,)\", \"varContent\": \"array([1, 1, 1, 1, 1, 1, 1, 1, 1, 1, 1, 0, 1, 1, 0, 1, 1, 1, 1, 1, 1, 0,\\n       1, 1, 1, 1, 1, 1, 1, 0, 1, 1, 1, 1, 0, 1, 1, 1, 1, 1, 0, 1, 1, 1,\\n       1, 1, 0, 1, 1, 1, 1, 1, 1, 1, 1, 1, 1, 0, 1, 1, 1, 1, 1, 1, 1, 1,\\n       1, 1, 1, 1, 1, 1, 1, 1, 1, 1, 0, 1, 1, 1, 1, 1, 1, 1, 1, 1, 1, 1,\\n       1, 1, 1, 1, 1, 0, 1, 1, 1, 1, 1, 1, 1, 1, 1, 0, 1, 0, 0, 1, 1, 0,\\n       0, 1, 1, 1, 1, 0, 1, 1, 0, 1, 1, 1, 1, 0, 1, 1, 1, 1, 1, 1, 0, 1,\\n       1, 1, 1, 0, 1, 1, 0, 1, 1, 1, 1, 1, 1, 1, 1, 1, 1, 1, 1, 1, 1, 1,\\n       0, 1, 1, 1, 1, 1, 1, 1, 1, 1, 1, 1, 1, 1, 1, 1, 1, 1, 1, 1, 1, 1,\\n       1, 1, 1, 1, 1, 1, 0, 1, 1, 1, 1, 1, 1, 1, 1, 1, 1, 1, 1, 1, 1, 1,\\n       1, 1, 1, 1, 1, 1, 1, 1, 1, 1, 1, 1, 1, 1, 1, 1, 1, 1, 1, 1, 1, 1,\\n       1, 1, 1, 1, 1, 1, 1, 1, 1, 1, 1, 1, 1, 1, 1, 1, 1, 1, 1, 1, 1, 1])\"}, {\"varName\": \"test\", \"varType\": \"DataFrame\", \"varSize\": \"7320\", \"varShape\": \"(61, 14)\", \"varContent\": \"Column names: age, sex, cp, trestbps, chol, fbs, restecg, thalach, exang, oldpeak, slope, ca, thal, target\"}, {\"varName\": \"tn\", \"varType\": \"int64\", \"varSize\": \"32\", \"varShape\": \"\", \"varContent\": \"19\"}, {\"varName\": \"tp\", \"varType\": \"int64\", \"varSize\": \"32\", \"varShape\": \"\", \"varContent\": \"130\"}, {\"varName\": \"train\", \"varType\": \"DataFrame\", \"varSize\": \"29040\", \"varShape\": \"(242, 14)\", \"varContent\": \"Column names: age, sex, cp, trestbps, chol, fbs, restecg, thalach, exang, oldpeak, slope, ca, thal, target\"}, {\"varName\": \"y_test\", \"varType\": \"Series\", \"varSize\": \"1936\", \"varShape\": \"(242,)\", \"varContent\": \"Series [242 rows]\"}, {\"varName\": \"y_train\", \"varType\": \"Series\", \"varSize\": \"1936\", \"varShape\": \"(242,)\", \"varContent\": \"Series [242 rows]\"}]\n",
      "[{\"varName\": \"SGDClassifier\", \"varType\": \"ABCMeta\", \"varSize\": \"2008\", \"varShape\": \"\", \"varContent\": \"<class 'sklearn.linear_model._stochastic_gradient.SGDClassifier'>\"}, {\"varName\": \"X_test\", \"varType\": \"DataFrame\", \"varSize\": \"25168\", \"varShape\": \"(242, 12)\", \"varContent\": \"Column names: age, sex, cp, trestbps, chol, restecg, thalach, exang, oldpeak, slope, ca, thal\"}, {\"varName\": \"X_train\", \"varType\": \"DataFrame\", \"varSize\": \"25168\", \"varShape\": \"(242, 12)\", \"varContent\": \"Column names: age, sex, cp, trestbps, chol, restecg, thalach, exang, oldpeak, slope, ca, thal\"}, {\"varName\": \"alpha\", \"varType\": \"float\", \"varSize\": \"24\", \"varShape\": \"\", \"varContent\": \"0.01\"}, {\"varName\": \"disease\", \"varType\": \"DataFrame\", \"varSize\": \"34064\", \"varShape\": \"(303, 14)\", \"varContent\": \"Column names: age, sex, cp, trestbps, chol, fbs, restecg, thalach, exang, oldpeak, slope, ca, thal, target\"}, {\"varName\": \"exp\", \"varType\": \"Experiment\", \"varSize\": \"64\", \"varShape\": \"\", \"varContent\": \"<hyperdash.experiment.Experiment object at 0x11d3f6a10>\"}, {\"varName\": \"fn\", \"varType\": \"int64\", \"varSize\": \"32\", \"varShape\": \"\", \"varContent\": \"4\"}, {\"varName\": \"fp\", \"varType\": \"int64\", \"varSize\": \"32\", \"varShape\": \"\", \"varContent\": \"89\"}, {\"varName\": \"score\", \"varType\": \"float64\", \"varSize\": \"32\", \"varShape\": \"\", \"varContent\": \"0.6157312925170068\"}, {\"varName\": \"sgd_model\", \"varType\": \"SGDClassifier\", \"varSize\": \"64\", \"varShape\": \"\", \"varContent\": \"SGDClassifier(alpha=0.01, average=False, class_weight=None,\\n              early_stopping=False, epsilon=0.1, eta0=0.0, fit_intercept=True,\\n            ...\"}, {\"varName\": \"sgd_predictions\", \"varType\": \"ndarray\", \"varSize\": \"1936\", \"varShape\": \"(242,)\", \"varContent\": \"array([1, 1, 1, 1, 1, 1, 1, 1, 1, 1, 1, 0, 1, 1, 0, 1, 1, 1, 1, 1, 1, 0,\\n       1, 1, 1, 1, 1, 1, 1, 0, 1, 1, 1, 1, 0, 1, 1, 1, 1, 1, 0, 1, 1, 1,\\n       1, 1, 0, 1, 1, 1, 1, 1, 1, 1, 1, 1, 1, 0, 1, 1, 1, 1, 1, 1, 1, 1,\\n       1, 1, 1, 1, 1, 1, 1, 1, 1, 1, 0, 1, 1, 1, 1, 1, 1, 1, 1, 1, 1, 1,\\n       1, 1, 1, 1, 1, 0, 1, 1, 1, 1, 1, 1, 1, 1, 1, 0, 1, 0, 0, 1, 1, 0,\\n       0, 1, 1, 1, 1, 0, 1, 1, 0, 1, 1, 1, 1, 0, 1, 1, 1, 1, 1, 1, 0, 1,\\n       1, 1, 1, 0, 1, 1, 0, 1, 1, 1, 1, 1, 1, 1, 1, 1, 1, 1, 1, 1, 1, 1,\\n       0, 1, 1, 1, 1, 1, 1, 1, 1, 1, 1, 1, 1, 1, 1, 1, 1, 1, 1, 1, 1, 1,\\n       1, 1, 1, 1, 1, 1, 0, 1, 1, 1, 1, 1, 1, 1, 1, 1, 1, 1, 1, 1, 1, 1,\\n       1, 1, 1, 1, 1, 1, 1, 1, 1, 1, 1, 1, 1, 1, 1, 1, 1, 1, 1, 1, 1, 1,\\n       1, 1, 1, 1, 1, 1, 1, 1, 1, 1, 1, 1, 1, 1, 1, 1, 1, 1, 1, 1, 1, 1])\"}, {\"varName\": \"test\", \"varType\": \"DataFrame\", \"varSize\": \"7320\", \"varShape\": \"(61, 14)\", \"varContent\": \"Column names: age, sex, cp, trestbps, chol, fbs, restecg, thalach, exang, oldpeak, slope, ca, thal, target\"}, {\"varName\": \"tn\", \"varType\": \"int64\", \"varSize\": \"32\", \"varShape\": \"\","
     ]
    },
    {
     "data": {
      "text/html": [
       "<b>limit_output extension: Maximum message size of 10000 exceeded with 10571 characters</b>"
      ]
     },
     "metadata": {},
     "output_type": "display_data"
    }
   ],
   "source": [
    "from sklearn.linear_model import SGDClassifier\n",
    "\n",
    "#Declare your Experiment object each run\n",
    "exp = Experiment('SGDClassifier')\n",
    "\n",
    "#Record the value of the hyperparameter alpha\n",
    "alpha = exp.param('alpha', 0.01)\n",
    "\n",
    "sgd_model = SGDClassifier(random_state=1, alpha = alpha)\n",
    "sgd_model.fit(X_train, y_train)\n"
   ]
  },
  {
   "cell_type": "code",
   "execution_count": 11,
   "metadata": {
    "ExecuteTime": {
     "end_time": "2020-03-20T10:59:50.605391Z",
     "start_time": "2020-03-20T10:59:50.532825Z"
    }
   },
   "outputs": [],
   "source": [
    "from sklearn.model_selection import cross_val_score\n",
    "\n",
    "score = cross_val_score(sgd_model, X_train, y_train).mean()\n",
    "exp.metric('Accuracy', score)"
   ]
  },
  {
   "cell_type": "markdown",
   "metadata": {},
   "source": [
    "Evaluate the perfomance using Confusion Matrix"
   ]
  },
  {
   "cell_type": "code",
   "execution_count": 12,
   "metadata": {
    "ExecuteTime": {
     "end_time": "2020-03-20T10:59:58.796433Z",
     "start_time": "2020-03-20T10:59:58.728902Z"
    }
   },
   "outputs": [],
   "source": [
    "from sklearn.model_selection import cross_val_predict\n",
    "from sklearn.metrics import confusion_matrix\n",
    "\n",
    "sgd_predictions = cross_val_predict(sgd_model, X_train, y_train)\n",
    "tn, fp, fn, tp  = confusion_matrix(y_train, sgd_predictions).ravel()\n",
    "\n",
    "exp.metric('True Negative', tn)\n",
    "exp.metric('False Positive', fp)\n",
    "exp.metric('False Negative', fn)\n",
    "exp.metric('True Positive', tp) \n",
    "\n",
    "\n"
   ]
  },
  {
   "cell_type": "code",
   "execution_count": 13,
   "metadata": {
    "ExecuteTime": {
     "end_time": "2020-03-20T11:00:02.173769Z",
     "start_time": "2020-03-20T11:00:00.044736Z"
    }
   },
   "outputs": [],
   "source": [
    "exp.end()"
   ]
  },
  {
   "cell_type": "code",
   "execution_count": 73,
   "metadata": {
    "ExecuteTime": {
     "end_time": "2020-03-20T10:53:35.405367Z",
     "start_time": "2020-03-20T10:53:35.395742Z"
    }
   },
   "outputs": [],
   "source": [
    "from sklearn.ensemble import RandomForestClassifier\n",
    "from sklearn import metrics\n",
    "from hyperdash import monitor\n",
    "\n",
    "@monitor('RandomForestClassifier')\n",
    "def random_forest(exp):\n",
    "    \n",
    "    n_estimators = 100\n",
    "    forest_clf = RandomForestClassifier(random_state=1, n_estimators= n_estimators)\n",
    "    forest_predictions = cross_val_predict(forest_clf, X_train, y_train )\n",
    "    f1 = metrics.f1_score\n",
    "    exp.metric('f1', f1)"
   ]
  }
 ],
 "metadata": {
  "hide_input": false,
  "kernelspec": {
   "display_name": "Python 3",
   "language": "python",
   "name": "python3"
  },
  "language_info": {
   "codemirror_mode": {
    "name": "ipython",
    "version": 3
   },
   "file_extension": ".py",
   "mimetype": "text/x-python",
   "name": "python",
   "nbconvert_exporter": "python",
   "pygments_lexer": "ipython3",
   "version": "3.7.6"
  },
  "toc": {
   "base_numbering": 1,
   "nav_menu": {},
   "number_sections": true,
   "sideBar": true,
   "skip_h1_title": false,
   "title_cell": "Table of Contents",
   "title_sidebar": "Contents",
   "toc_cell": true,
   "toc_position": {},
   "toc_section_display": true,
   "toc_window_display": false
  },
  "varInspector": {
   "cols": {
    "lenName": 16,
    "lenType": 16,
    "lenVar": 40
   },
   "kernels_config": {
    "python": {
     "delete_cmd_postfix": "",
     "delete_cmd_prefix": "del ",
     "library": "var_list.py",
     "varRefreshCmd": "print(var_dic_list())"
    },
    "r": {
     "delete_cmd_postfix": ") ",
     "delete_cmd_prefix": "rm(",
     "library": "var_list.r",
     "varRefreshCmd": "cat(var_dic_list()) "
    }
   },
   "types_to_exclude": [
    "module",
    "function",
    "builtin_function_or_method",
    "instance",
    "_Feature"
   ],
   "window_display": false
  }
 },
 "nbformat": 4,
 "nbformat_minor": 1
}
